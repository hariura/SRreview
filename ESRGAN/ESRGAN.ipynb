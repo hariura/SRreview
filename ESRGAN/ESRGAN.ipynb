{
 "cells": [
  {
   "cell_type": "markdown",
   "id": "43bed2fb",
   "metadata": {},
   "source": [
    "# ESRGAN: Enhanced Super-Resolution Generative Adversarial Networks"
   ]
  },
  {
   "cell_type": "markdown",
   "id": "2ac4554c",
   "metadata": {},
   "source": [
    "- Three key components of SRGAN\n",
    "    - network architecture (RRDB)\n",
    "    - adversarial loss (idea from relativstic GAN)\n",
    "    - perceptual loss ( by using the features before activation)"
   ]
  },
  {
   "cell_type": "markdown",
   "id": "0535573d",
   "metadata": {},
   "source": [
    "### Proposed Methods\n",
    "##### MAIN AIM : To improve the overall perceptual quality for SR \n",
    "### Network Architecture"
   ]
  },
  {
   "cell_type": "markdown",
   "id": "76a59d3b",
   "metadata": {},
   "source": [
    "<img src=\"https://img1.daumcdn.net/thumb/R1280x0/?scode=mtistory2&fname=https%3A%2F%2Fblog.kakaocdn.net%2Fdn%2FbMn9n7%2FbtrqOgjBfNo%2FBsqG1joBXE4Wfcs7gPH5j1%2Fimg.png\">"
   ]
  },
  {
   "cell_type": "markdown",
   "id": "3c6b88a2",
   "metadata": {},
   "source": [
    "<img src = \"https://img1.daumcdn.net/thumb/R1280x0/?scode=mtistory2&fname=https%3A%2F%2Fblog.kakaocdn.net%2Fdn%2FthFaB%2FbtrqNLRE0Va%2FydtkURqs9B0Ni4tQKRiYxk%2Fimg.png\">"
   ]
  },
  {
   "cell_type": "markdown",
   "id": "65f57a9e",
   "metadata": {},
   "source": [
    "- We employ the basic architecture of SRResNet\n",
    "- Left: We remove the BN layers in residual block in SRGAN.\n",
    "- Right: RRDB block. $\\beta$ is the residual scaling parameter."
   ]
  },
  {
   "cell_type": "markdown",
   "id": "63b6ef5e",
   "metadata": {},
   "source": [
    "##### Removing Batch Nomalize layers\n",
    "- When the statistics of training and testing datasets diﬀer a lot, **BN layers tend to introduce unpleasant artifacts and limit the generalization ability.**\n",
    "- Furthermore, removing BN layers helps to improve generalization ability and to reduce computational complexity and memory usage."
   ]
  },
  {
   "cell_type": "markdown",
   "id": "7893af82",
   "metadata": {},
   "source": [
    "- Based on the observation that more layers and connections could always boost performance, the proposed RRDB employs a **deeper and more complex structure** than the original residual block in SRGAN.  \n",
    "\n",
    "\n",
    "- Exploit several techniques\n",
    "    - 1) residual scaling : multiplying a constant $\\beta$ between 0 and 1\n",
    "    - 2) smaller initialization : supplementary material.   \n",
    "    \n",
    "        - (we empirically ﬁnd residual architecture is easier to train when the initial parameter variance becomes smaller.)"
   ]
  },
  {
   "cell_type": "markdown",
   "id": "a164bd4a",
   "metadata": {},
   "source": [
    "### Relativistic Discriminator"
   ]
  },
  {
   "cell_type": "markdown",
   "id": "6a3b8003",
   "metadata": {},
   "source": [
    "- Enhance the discriminator based on the Relativistic GAN\n",
    "- a relativistic discriminator tries to predict the probability that a real image $x_r$is relatively more realistic than a fake one $x_f$\n",
    "\n",
    "<img src= \"https://img1.daumcdn.net/thumb/R1280x0/?scode=mtistory2&fname=https%3A%2F%2Fblog.kakaocdn.net%2Fdn%2FdGCpa0%2FbtrqN2LYSeE%2FFqwx2bud9hd0FeWx2eD2V0%2Fimg.png\">"
   ]
  },
  {
   "cell_type": "markdown",
   "id": "a0fbeb94",
   "metadata": {},
   "source": [
    "#### discriminator loss\n",
    "$$L_D^{Ra} = - \\mathbb{E}_{x_r}[\\log(D_{Ra}(x_r, x_f))]- \\mathbb{E}_{x_f}[1- \\log(D_{Ra}(x_f, x_r))]$$"
   ]
  },
  {
   "cell_type": "markdown",
   "id": "24470543",
   "metadata": {},
   "source": [
    "#### The adversarial loss for generator\n",
    "$$L_G^{Ra} = - \\mathbb{E}_{x_r}[1- \\log(D_{Ra}(x_r, x_f))]- \\mathbb{E}_{x_f}[\\log(D_{Ra}(x_f, x_r))]$$"
   ]
  },
  {
   "cell_type": "markdown",
   "id": "83b5fc7d",
   "metadata": {},
   "source": [
    "where $x_f = G(x_i), x_i $ : input LR image"
   ]
  },
  {
   "cell_type": "code",
   "execution_count": null,
   "id": "5e4052f9",
   "metadata": {},
   "outputs": [],
   "source": []
  },
  {
   "cell_type": "markdown",
   "id": "98b2373a",
   "metadata": {},
   "source": [
    "### Perceptual Loss"
   ]
  },
  {
   "cell_type": "code",
   "execution_count": null,
   "id": "ead668d0",
   "metadata": {},
   "outputs": [],
   "source": []
  },
  {
   "cell_type": "markdown",
   "id": "75f9d552",
   "metadata": {},
   "source": [
    "- use features before the activation layers\n",
    "    - First, the activated features are very sparse"
   ]
  },
  {
   "cell_type": "markdown",
   "id": "8d3cda41",
   "metadata": {},
   "source": [
    "$$L_G = L_{percep} + \\lambda L_G^{Ra} + \\eta L_1$$\n",
    "where $L_1 = \\mathbb{E}_{x_i}||G(x_i) - y||_1$\n"
   ]
  },
  {
   "cell_type": "markdown",
   "id": "8003f944",
   "metadata": {},
   "source": [
    "<img src=\"https://img1.daumcdn.net/thumb/R1280x0/?scode=mtistory2&fname=https%3A%2F%2Fblog.kakaocdn.net%2Fdn%2Fb0TySQ%2FbtrqRTuGsGE%2FOlNBJNgK1yoHHg32kXeUWK%2Fimg.png\">"
   ]
  },
  {
   "cell_type": "code",
   "execution_count": null,
   "id": "33b8e1af",
   "metadata": {},
   "outputs": [],
   "source": []
  }
 ],
 "metadata": {
  "kernelspec": {
   "display_name": "Python 3",
   "language": "python",
   "name": "python3"
  },
  "language_info": {
   "codemirror_mode": {
    "name": "ipython",
    "version": 3
   },
   "file_extension": ".py",
   "mimetype": "text/x-python",
   "name": "python",
   "nbconvert_exporter": "python",
   "pygments_lexer": "ipython3",
   "version": "3.7.10"
  }
 },
 "nbformat": 4,
 "nbformat_minor": 5
}
