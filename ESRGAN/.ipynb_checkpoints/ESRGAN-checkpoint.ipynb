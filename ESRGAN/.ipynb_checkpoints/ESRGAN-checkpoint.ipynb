{
 "cells": [
  {
   "cell_type": "markdown",
   "id": "801e4639",
   "metadata": {},
   "source": [
    "# ESRGAN: Enhanced Super-Resolution Generative Adversarial Networks"
   ]
  },
  {
   "cell_type": "markdown",
   "id": "03985ca6",
   "metadata": {},
   "source": [
    "- Three key components of SRGAN\n",
    "    - network architecture (RRDB)\n",
    "    - adversarial loss (idea from relativstic GAN)\n",
    "    - perceptual loss ( by using the features before activation)"
   ]
  },
  {
   "cell_type": "markdown",
   "id": "03d2f677",
   "metadata": {},
   "source": [
    "### Proposed Methods\n",
    "#### MAIN AIM : To improve the overall perceptual quality for SR "
   ]
  },
  {
   "cell_type": "markdown",
   "id": "a0d00926",
   "metadata": {},
   "source": [
    "<img src=\"https://img1.daumcdn.net/thumb/R1280x0/?scode=mtistory2&fname=https%3A%2F%2Fblog.kakaocdn.net%2Fdn%2FbMn9n7%2FbtrqOgjBfNo%2FBsqG1joBXE4Wfcs7gPH5j1%2Fimg.png\">"
   ]
  },
  {
   "cell_type": "markdown",
   "id": "0360d9cb",
   "metadata": {},
   "source": [
    "<img src = \"https://img1.daumcdn.net/thumb/R1280x0/?scode=mtistory2&fname=https%3A%2F%2Fblog.kakaocdn.net%2Fdn%2FthFaB%2FbtrqNLRE0Va%2FydtkURqs9B0Ni4tQKRiYxk%2Fimg.png\">"
   ]
  },
  {
   "cell_type": "markdown",
   "id": "97e1465f",
   "metadata": {},
   "source": [
    "- We employ the basic architecture of SRResNet\n",
    "- Left: We remove the BN layers in residual block in SRGAN.\n",
    "- Right: RRDB block. $\\beta$ is the residual scaling parameter."
   ]
  },
  {
   "cell_type": "code",
   "execution_count": null,
   "id": "6deaa18d",
   "metadata": {},
   "outputs": [],
   "source": []
  }
 ],
 "metadata": {
  "kernelspec": {
   "display_name": "Python 3",
   "language": "python",
   "name": "python3"
  },
  "language_info": {
   "codemirror_mode": {
    "name": "ipython",
    "version": 3
   },
   "file_extension": ".py",
   "mimetype": "text/x-python",
   "name": "python",
   "nbconvert_exporter": "python",
   "pygments_lexer": "ipython3",
   "version": "3.7.10"
  }
 },
 "nbformat": 4,
 "nbformat_minor": 5
}
