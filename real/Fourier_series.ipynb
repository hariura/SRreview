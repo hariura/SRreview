{
 "cells": [
  {
   "cell_type": "markdown",
   "id": "4ed5ad43",
   "metadata": {},
   "source": [
    "# 푸리에 급수  \n",
    "https://ghebook.blogspot.com/2012/07/fourier-series.html  \n",
    "### 푸리에 사인 급수(Fourier sine series)\n",
    "\n",
    "$$f(t+T) = f(t), f(-t) = - f(t)$$\n",
    "$$f(t) = \\sum_{m=1}^\\infty F_m \\sin(m \\omega_0 t),\\quad \\text{when} \\quad \\omega_0 = \\frac{2 \\pi}{T}$$\n",
    "where $T$ is period, $F_m$ is Fourier coefficient\n",
    "\n",
    "- 푸리에 급수는 임의의 주기 함수(periodic function)를 삼각 함수(trigonometric function)의 무한 급수(infinite series)로 표현할 수 있다\n",
    "\n",
    "### 기브스 현상(Gibbs Phenomenon)\n",
    "https://ghebook.blogspot.com/2022/05/gibbs-phenomenon.html   \n",
    "\n",
    "- 푸리에 급수(Fourier級數, Fourier series)는 주기 함수를 삼각함수의 가중치로 분해한 급수다. \n",
    "- 디리클레가 1829년에 제시한 증명에 의해 푸리에 급수(Fourier series)는 항상 원래 함수로 수렴한다. 만약 유한한 불연속점이 있으면, 푸리에 급수는 좌극한과 우극한의 평균값으로 수렴한다.\n",
    "\n",
    "- 불연속함수에, 유한합이면 어떻게 될까 \n",
    "\n",
    "<img src= \"https://upload.wikimedia.org/wikipedia/commons/d/d4/Synthesis_sawtooth.gif\">\n",
    "\n",
    "- 불연속점 근방에서 무한 급수(infinite series)인 푸리에 급수에 접근하는 부분 합이 만드는 근원적인 오차 한계를 기브스 현상(Gibbs phenomenon)이라 부른다"
   ]
  },
  {
   "cell_type": "markdown",
   "id": "774a6734",
   "metadata": {},
   "source": []
  },
  {
   "cell_type": "code",
   "execution_count": null,
   "id": "fbea9a76",
   "metadata": {},
   "outputs": [],
   "source": []
  }
 ],
 "metadata": {
  "kernelspec": {
   "display_name": "Python 3",
   "language": "python",
   "name": "python3"
  },
  "language_info": {
   "codemirror_mode": {
    "name": "ipython",
    "version": 3
   },
   "file_extension": ".py",
   "mimetype": "text/x-python",
   "name": "python",
   "nbconvert_exporter": "python",
   "pygments_lexer": "ipython3",
   "version": "3.7.10"
  }
 },
 "nbformat": 4,
 "nbformat_minor": 5
}
