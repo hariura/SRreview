{
 "cells": [
  {
   "cell_type": "markdown",
   "id": "675a9b85",
   "metadata": {},
   "source": [
    "### 3.3. Ringing and overshoot artifacts\n",
    "#### paper\n",
    "<img src = \"https://miro.medium.com/max/1400/1*pYOD-TjDsGMG2lHJwuLrkQ.png\">\n",
    "\n",
    "\n",
    "- the $sinc$ filter :  an idealized filter that cutoff high frequencies\n",
    "    - synthesize ringing and overshoot artifact for training pair\n",
    "\n",
    "- the $sinc$ filter kernel \n",
    "$$k(i,j) = \\frac{\\omega_c}{2\\pi \\sqrt{i^2 + j^2}} \\mathcal{J_1} (\\omega_c \\sqrt{i^2 + j^2})$$\n",
    "\n",
    "    - where $(i,j)$ is the kernel coordinate;  \n",
    "    - $\\omega_c$ is the cutoff frequency, \n",
    "    - $\\mathcal{J_1}$ is the first order Bessel function\n",
    "    \n",
    "    \n",
    "- figure\n",
    "    - Top: Real samples suffering from ringing and overshoot artifacts.\n",
    "    - Bottom: Examples of sinc kernels (kernel size 21)\n",
    "    - Ringing artifacts는 종종 띠 또는 마치 영혼이 물체에서 빠져 나가는것 같은 형태로 모서리 부분에 나타난다. Overshooting artifacts는 보통 ringing artifacts 결합한 열화 형태로 생성된다."
   ]
  },
  {
   "cell_type": "markdown",
   "id": "9fde7590",
   "metadata": {},
   "source": [
    "# overshoot artifacts"
   ]
  },
  {
   "cell_type": "markdown",
   "id": "9b359285",
   "metadata": {},
   "source": [
    "https://en.wikipedia.org/wiki/Overshoot_(signal)"
   ]
  },
  {
   "cell_type": "markdown",
   "id": "141f2e07",
   "metadata": {},
   "source": [
    "- When a function such as a square wave is represented by a summation of terms, for example, a Fourier series or an expansion in orthogonal polynomials, the approximation of the function by a truncated number of terms in the series can exhibit overshoot, undershoot and ringing.\n",
    "\n",
    "    - 사각파와 같은 함수가 푸리에 급수, 직교다항식의 합으로 표현될 때, 급수의 잘린 개수에 의한 함수의 근사치는 __오버슈트 언더슈트 및 링잉__을 나타낼 수 있다"
   ]
  },
  {
   "cell_type": "markdown",
   "id": "8db0cfaa",
   "metadata": {},
   "source": [
    "#### Ringing artifacts\n",
    "\n",
    "<img src = \"https://upload.wikimedia.org/wikipedia/commons/thumb/7/76/High_accuracy_settling_time_measurements_figure_1.png/440px-High_accuracy_settling_time_measurements_figure_1.png\">\n",
    "\n",
    "https://en.wikipedia.org/wiki/Ringing_artifacts"
   ]
  },
  {
   "cell_type": "markdown",
   "id": "cca7f3ef",
   "metadata": {},
   "source": [
    "- 이렇게 갑자기 퉁 올라가는 값이 오버슛 \n",
    "- 원래 값으로 돌아가기 위해서 다시 떨어지는걸 링잉\n",
    "- 둘다 같이 일어나서 그냥 링잉이라고 함 \n"
   ]
  },
  {
   "cell_type": "markdown",
   "id": "b49b432a",
   "metadata": {},
   "source": [
    "- JPEG compression can introduce ringing artifacts at sharp transitions, which are particularly visible in text.\n",
    "- This is a due to loss of high frequency components, as in step response ringing. JPEG uses 8×8 blocks, on which the discrete cosine transform (DCT) is performed.\n",
    "\n",
    "    - JPEG 압축에서 링잉 아티펙트가 생김\n",
    "    - 고주파수 성분의 손실때문 (푸리에에서의 유한합으로 이해)\n",
    "    - 이유는 이산 코사인변환(DCT) 이 수행되는동안 고주파 손실\n",
    "    \n",
    "- JPEG splits images into 8×8 blocks, if an image is not an integer number of blocks, the edge cannot easily be encoded, and solutions such as filling with a black border create a sharp transition in the source, hence ringing artifacts in the encoded image.\n",
    "\n",
    "    - 8x8 블럭으로 분할 -> 정수로 안나눠지면 가장자리에서 검은색테두리로 채우는것같은게 생김\n",
    "    - 소스의 급격한 전환으로 아티펙트 "
   ]
  },
  {
   "cell_type": "markdown",
   "id": "13fa1ee1",
   "metadata": {},
   "source": [
    "<img src= \"https://w.namu.la/s/36637043011072f1817d451e0e845a803f6c739b8df28971e14430eb926ef1f48608fd7c3be365371dd86a13a5719113ca2631c25db42d18c989074551f5e8b1f884e7cf0e1a835273003b0cc3ec2caf9ea807f73bef48544e06dcb08dec4686\">"
   ]
  },
  {
   "cell_type": "markdown",
   "id": "3b3c2dbc",
   "metadata": {},
   "source": [
    "https://en.wikipedia.org/wiki/Bessel_function"
   ]
  },
  {
   "cell_type": "markdown",
   "id": "0a9a50ea",
   "metadata": {},
   "source": [
    "### Bessel functions of the first kind: $\\mathcal{J_\\alpha}$\n",
    "$$\\mathcal{J_\\alpha(x)} = \\sum_{m=0}^\\infty \\frac{(-1)^m}{m! \\Gamma(M+\\alpha+1)}\\left( \\frac{x}{x}\\right)^{2m+\\alpha}$$"
   ]
  },
  {
   "cell_type": "code",
   "execution_count": null,
   "id": "3db29132",
   "metadata": {},
   "outputs": [],
   "source": []
  }
 ],
 "metadata": {
  "kernelspec": {
   "display_name": "Python 3",
   "language": "python",
   "name": "python3"
  },
  "language_info": {
   "codemirror_mode": {
    "name": "ipython",
    "version": 3
   },
   "file_extension": ".py",
   "mimetype": "text/x-python",
   "name": "python",
   "nbconvert_exporter": "python",
   "pygments_lexer": "ipython3",
   "version": "3.7.10"
  }
 },
 "nbformat": 4,
 "nbformat_minor": 5
}
