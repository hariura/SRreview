{
 "cells": [
  {
   "cell_type": "markdown",
   "id": "90420d44",
   "metadata": {},
   "source": [
    "### sinc function (씨크)"
   ]
  },
  {
   "cell_type": "markdown",
   "id": "f98c4868",
   "metadata": {},
   "source": [
    "$$\\text{sinc} x = \\begin{cases}\n",
    "\\frac{\\sin {x}}{x}, & x \\ne 0 \\\\\n",
    "1,&  x = 0\n",
    "\\end{cases} $$"
   ]
  },
  {
   "cell_type": "markdown",
   "id": "f5523c68",
   "metadata": {},
   "source": [
    "<img src = \"https://upload.wikimedia.org/wikipedia/commons/thumb/5/59/Si_sinc.svg/700px-Si_sinc.svg.png\">"
   ]
  },
  {
   "cell_type": "markdown",
   "id": "5a390530",
   "metadata": {},
   "source": [
    "In digital signal processing and information theory, the normalized sinc function is commonly defined for x ≠ 0 by\n",
    "\n",
    "$$\\text{sinc}{x}  = \\frac{\\sin {(\\pi x)}}{\\pi x}$$\n"
   ]
  },
  {
   "cell_type": "markdown",
   "id": "38c018a4",
   "metadata": {},
   "source": [
    "\n",
    "\n",
    "https://en.wikipedia.org/wiki/Sinc_filter \n",
    "\n",
    "- In signal processing, a sinc filter is an idealized filter that removes all frequency components above a given cutoff frequency, without affecting lower frequencies, and has linear phase response.  \n",
    "    - 낮은 주파수는 그대로 가져가고, 차단 주파수 이상은 제거. \n",
    "    - 저역 통과 필터 \n",
    "\n",
    "-  The filter's impulse response is a sinc function in the time domain, and its frequency response is a rectangular function.\n",
    "\n",
    "    - impulse : 시간에 대한 반응의 함수 \n",
    "\n",
    "The filter's impulse response is a sinc function in the time domain, and its frequency response is a rectangular function.\n",
    "\n",
    "\n",
    "\n",
    "$$H(f) = \\text{rect}\\left( \\frac{f}{2B} \\right) =\n",
    "\\begin{cases}\n",
    "0, & \\text{if} |f|> B,  \\\\\n",
    "\\frac{1}{2},&  \\text{if} |f| =  B,\\\\\n",
    "1, & \\text{if} |f|< B\n",
    "\\end{cases} $$\n",
    "where $B$ is an arbitrary cutoff frequency.\n",
    "\n",
    "<img src = \"https://upload.wikimedia.org/wikipedia/commons/thumb/1/11/Rectangular_function.svg/440px-Rectangular_function.svg.png\">\n",
    "\n",
    "- The impulse response of such a filter is given by the inverse Fourier transform of the frequency response:\n",
    "\n",
    "$$\\begin{matrix}\n",
    "h(t) = \\mathcal{F}^{-1}\\left\\{ \\mathcal {H}(f) \\right\\} &=& \\displaystyle \\int_{-B}^{B} \\exp(2\\pi i f t ) df \\\\\n",
    "       &=& 2B \\text{sinc}(2Bt)\n",
    "\\end{matrix}$$ \n",
    "\n",
    "- The normalized sinc function, the impulse response of the sinc filter.\n",
    "- The rectangular function, the frequency response of the sinc filter."
   ]
  },
  {
   "cell_type": "markdown",
   "id": "94e3ddd3",
   "metadata": {},
   "source": []
  },
  {
   "cell_type": "markdown",
   "id": "140d1765",
   "metadata": {},
   "source": []
  }
 ],
 "metadata": {
  "kernelspec": {
   "display_name": "Python 3",
   "language": "python",
   "name": "python3"
  },
  "language_info": {
   "codemirror_mode": {
    "name": "ipython",
    "version": 3
   },
   "file_extension": ".py",
   "mimetype": "text/x-python",
   "name": "python",
   "nbconvert_exporter": "python",
   "pygments_lexer": "ipython3",
   "version": "3.7.10"
  }
 },
 "nbformat": 4,
 "nbformat_minor": 5
}
