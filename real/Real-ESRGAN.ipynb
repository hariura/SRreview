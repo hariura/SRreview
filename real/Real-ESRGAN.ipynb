{
 "cells": [
  {
   "cell_type": "markdown",
   "id": "89b8bc81",
   "metadata": {},
   "source": [
    "# Real-ESRGAN: Training Real-World Blind Super-Resolution with Pure Synthetic Data"
   ]
  },
  {
   "cell_type": "markdown",
   "id": "56db5d46",
   "metadata": {},
   "source": [
    "<img src = \"https://miro.medium.com/max/1400/1*uk_zSjdLzTlR8XTeYbRIag.png\">"
   ]
  },
  {
   "cell_type": "markdown",
   "id": "1f3d8d5e",
   "metadata": {},
   "source": [
    "### propose \n",
    "- We propose a high-order degradation process to model practical degradations, and utilize $sinc$ ﬁlters to model common ringing and overshoot artifacts.\n",
    "- We employ several essential modiﬁcations (e.g., U-Net discriminator with spectral normalization)\n",
    "- Achieve better visual performance than previous works\n",
    "\n",
    "\n",
    "https://en.wikipedia.org/wiki/Ringing_artifacts"
   ]
  },
  {
   "cell_type": "markdown",
   "id": "3109e4cb",
   "metadata": {},
   "source": [
    "## Methodology"
   ]
  },
  {
   "cell_type": "markdown",
   "id": "34cfa25e",
   "metadata": {},
   "source": [
    "### 3.1. Classical Degradation Model\n",
    "Blind SR aims to restore high-resolution images from low-resolution ones with unknown and complex degradations.\n",
    "1. the ground-truth image $\\mathbf{y}$ is ﬁrst convolved with blur kernel $\\mathbf{k}$.\n",
    "2. downsampling operation with scale factor $\\mathbf{r}$ is performed.\n",
    "3. The low-resolution  $\\mathbf{x}$ is obtained by adding noise n.\n",
    "4. JPEG compression is also adopted\n",
    "\n",
    "$$  \\mathbf{x}  = \\mathcal{D}(\\mathbf{y}) = [( \\mathbf{y} \\circledast \\mathbf{k}\\downarrow_{r} + \\mathbf{n} )]_\\mathrm{JPEG} $$"
   ]
  },
  {
   "cell_type": "markdown",
   "id": "bf908290",
   "metadata": {},
   "source": [
    "#### Blur.\n",
    "- blur degradation as a convolution with a linear blur ﬁlter (kernel).\n",
    "- Isotropic and anisotropic Gaussian ﬁlters are common choices.\n",
    "\n",
    "Gaussian blur kernel $\\mathbf{k}$ with a kernel size of $2t + 1$,\n",
    "$$ \\mathbf{k}(i,j) = \\frac{1}{N} \\exp(-\\frac{1}{2} \\mathbf{C}^T \\mathbf{\\Sigma}^{-1} \\mathbf{C}), \\qquad  C = [i,j]^T  $$\n",
    "where $(i,j) \\in [-t,t]$ ,  N is the normalization constant.\n",
    "\n",
    "\n",
    "$$\\Sigma = \\begin{bmatrix} \\cos\\theta & - \\sin\\theta \\\\ \\sin\\theta & \\cos\\theta \\end{bmatrix}  \n",
    "\\begin{bmatrix} \\sigma_1 & 0\\\\ 0 & \\sigma_2 \\end{bmatrix} \\begin{bmatrix} \\cos\\theta &  \\sin\\theta \\\\ -\\sin\\theta & \\cos\\theta \\end{bmatrix} $$\n",
    "\n",
    "- When $\\sigma_1 = \\sigma_2$,  $\\mathbf{k}$ is an isotropic Gaussian blur kernel; otherwise $\\mathbf{k}$ is an anisotropic kernel.\n",
    "\n",
    "https://datacarpentry.org/image-processing/06-blurring/\n",
    "\n",
    "#### Noise.\n",
    "two commonly-used noise types \n",
    "1. additive Gaussian noise ( Gaussian distribution )\n",
    "    - color noise.\n",
    "    - synthesize gray noise\n",
    "2. Poisson noise ( Poisson distribution )\n",
    "    - It is usually used to approximately model the **sensor noise** caused by statistical quantum ﬂuctuations\n",
    "\n",
    "#### Resize (Downsampling)\n",
    "- we consider both downsamping and upsampling, i.e., the resize operation\n",
    "- There are several resize algorithms \n",
    "    - nearest-neighbor interpolation, \n",
    "    - area resize\n",
    "    - bilinear interpolation\n",
    "    - bicubic interpolation.\n",
    "    \n",
    "- we exclude NN since it causes the misalignment issue"
   ]
  },
  {
   "cell_type": "markdown",
   "id": "370cbdd9",
   "metadata": {},
   "source": [
    "#### JPEG compression. \n",
    "- 이후 보충\n",
    "- Images are then split into 8 × 8 blocks and each block is transformed with a two-dimensional discrete cosine transform (DCT) "
   ]
  },
  {
   "cell_type": "markdown",
   "id": "acc577f1",
   "metadata": {},
   "source": [
    "### 3.2. High-order Degradation Model"
   ]
  },
  {
   "cell_type": "markdown",
   "id": "ba772ee7",
   "metadata": {},
   "source": [
    "- adopt the above classical degradation model to synthesize training pairs, the trained model could indeed handle some real samples.\n",
    "\n",
    "- However, it still can not resolve some complicated degradations in the real world, especially the unknown noises and complex artifacts\n",
    "\n",
    "- The classical degradation model only includes a ﬁxed number of basic degradations \n",
    "\n",
    "- the real-life degradation processes are quite diverse\n",
    "    - eg\n",
    "    - low-quality image download from the Internet\n",
    "    - the original image might be taken with a cellphone\n",
    "    - The image was then edited with sharpening and resize operations\n",
    "    - It was uploaded to some social media applications\n",
    "    \n",
    "- Thus, we propose a high-order degradation model.\n",
    "\n",
    "$$\\mathbf{x}  = \\mathcal{D}^n(\\mathbf{y}) = (\\mathcal{D}_n \\circ \\cdots \\circ \\mathcal{D}_2 \\circ \\mathcal{D}_1) (\\mathbf{y})$$\n",
    "\n",
    "<img src = \"https://miro.medium.com/max/1400/1*Evfha3EKdZKK5SzlRHr2Gw.png\">"
   ]
  },
  {
   "cell_type": "markdown",
   "id": "571c649b",
   "metadata": {},
   "source": [
    "### 3.3. Ringing and overshoot artifacts\n",
    "\n",
    "<img src = \"https://miro.medium.com/max/1400/1*pYOD-TjDsGMG2lHJwuLrkQ.png\">\n",
    "\n",
    "- 보충 해야함\n",
    "- Top: Real samples suffering from ringing and overshoot artifacts.\n",
    "- Bottom: Examples of sinc kernels (kernel size 21)\n",
    "- Ringing artifacts는 종종 띠 또는 마치 영혼이 물체에서 빠져 나가는것 같은 형태로 모서리 부분에 나타난다. Overshooting artifacts는 보통 ringing artifacts 결합한 열화 형태로 생성된다."
   ]
  },
  {
   "cell_type": "markdown",
   "id": "155290f7",
   "metadata": {},
   "source": [
    "### 3.4. Networks and Training\n",
    "#### ESRGAN generator\n",
    "-  extend the original ×4 ESRGAN architecture to perform super-resolution with a scale factor of ×2 and ×1.\n",
    "- As ESRGAN is a heavy network, we ﬁrst employ the pixel-unshufﬂe\n",
    "\n",
    "<img src=\"https://velog.velcdn.com/images%2Fheaseo%2Fpost%2Fbc601e9b-96e4-4801-839f-979d9ddceada%2FESRGAN%20network.png\">\n",
    "\n",
    "#### U-Net discriminator with spectral normalization (SN).\n",
    "- Speciﬁcally, the discriminator in Real-ESRGAN requires a greater discriminative power for complex training outputs.\n",
    "- The UNet outputs realness values for each pixel, and can provide detailed per-pixel feedback to the generator.\n",
    "- We employ the spectral normalization regularization [37] to stabilize the training dynamics.\n",
    "\n",
    "<img src = \"https://miro.medium.com/max/940/1*yR86ulSzVJph3YwWIMw9mw.png\">\n"
   ]
  },
  {
   "cell_type": "markdown",
   "id": "b29480b0",
   "metadata": {},
   "source": [
    "## 4. Experiments\n",
    "### 4.1. Datasets and Implementation\n",
    "### 4.2. Comparisons with Prior Works\n",
    "\n",
    "<img src =\"https://miro.medium.com/max/1400/1*uVjrZKKHQ11xJ7fcm9LFyg.png\">\n",
    "### 4.3. Ablation Studies\n",
    "\n",
    "#### Second-order degradation model.\n",
    "#### sinc ﬁlters.\n",
    "#### U-Net discriminator with SN regularization.\n",
    "#### More complicated blur kernels."
   ]
  },
  {
   "cell_type": "markdown",
   "id": "734ae9ad",
   "metadata": {},
   "source": [
    "### 4.4. Limitations\n",
    "\n",
    "<img src =\"https://miro.medium.com/max/1400/1*4lUdb2I1TP-PmTegBWk59A.png\">"
   ]
  },
  {
   "cell_type": "markdown",
   "id": "f4e23afc",
   "metadata": {},
   "source": []
  }
 ],
 "metadata": {
  "kernelspec": {
   "display_name": "Python 3",
   "language": "python",
   "name": "python3"
  },
  "language_info": {
   "codemirror_mode": {
    "name": "ipython",
    "version": 3
   },
   "file_extension": ".py",
   "mimetype": "text/x-python",
   "name": "python",
   "nbconvert_exporter": "python",
   "pygments_lexer": "ipython3",
   "version": "3.7.10"
  }
 },
 "nbformat": 4,
 "nbformat_minor": 5
}
